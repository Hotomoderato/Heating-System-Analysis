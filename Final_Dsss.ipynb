{
 "cells": [
  {
   "cell_type": "code",
   "execution_count": 97,
   "metadata": {
    "pycharm": {
     "is_executing": false
    }
   },
   "outputs": [],
   "source": [
    "import pandas as pd\n",
    "import numpy as np\n",
    "import seaborn as sns\n",
    "import matplotlib.pyplot as plt\n",
    "import matplotlib\n",
    "from sklearn.preprocessing import OneHotEncoder\n",
    "from scipy.stats import kstest\n",
    "\n",
    "from sklearn import svm\n",
    "from sklearn.covariance import EllipticEnvelope\n",
    "from sklearn.ensemble import IsolationForest\n",
    "from sklearn.neighbors import LocalOutlierFactor"
   ]
  },
  {
   "cell_type": "code",
   "execution_count": 89,
   "metadata": {
    "pycharm": {
     "is_executing": false
    }
   },
   "outputs": [],
   "source": [
    "# 显示所有列\n",
    "pd.set_option('display.max_columns', None)\n",
    "# 显示所有行\n",
    "pd.set_option('display.max_rows', None)"
   ]
  },
  {
   "cell_type": "code",
   "execution_count": 90,
   "metadata": {
    "pycharm": {
     "is_executing": false
    }
   },
   "outputs": [
    {
     "data": {
      "text/plain": "        Date  М1, t  М2, t  ΔМ, t  Т1, °C  Т2, °C  ΔТ, °C  Q, Gcal  USPD  \\\n0  2013/12/1  93.95  84.17   9.78   65.86   43.56   22.30     2.10     1   \n1  2013/12/2  91.28  81.69   9.59   65.18   42.87   22.31     2.04     1   \n2  2013/12/3  91.76  84.87   6.90   65.70   43.17   22.53     2.07     1   \n3  2013/12/4  88.79  79.92   8.87   65.26   42.23   23.03     2.05     1   \n4  2013/12/5  89.37  81.50   7.87   65.47   42.22   23.25     2.08     1   \n\n   YYYYMM          registrated  scheme  type    area  floors walls material  \\\n0  201312  Heating + Hot water  opened  1105  2707.4       5          panel   \n1  201312  Heating + Hot water  opened  1105  2707.4       5          panel   \n2  201312  Heating + Hot water  opened  1105  2707.4       5          panel   \n3  201312  Heating + Hot water  opened  1105  2707.4       5          panel   \n4  201312  Heating + Hot water  opened  1105  2707.4       5          panel   \n\n   year of construction  area of building   temp,˚C  \n0                  1983            4401.0 -0.157917  \n1                  1983            4401.0 -1.259167  \n2                  1983            4401.0 -4.739167  \n3                  1983            4401.0 -1.216250  \n4                  1983            4401.0 -0.533750  ",
      "text/html": "<div>\n<style scoped>\n    .dataframe tbody tr th:only-of-type {\n        vertical-align: middle;\n    }\n\n    .dataframe tbody tr th {\n        vertical-align: top;\n    }\n\n    .dataframe thead th {\n        text-align: right;\n    }\n</style>\n<table border=\"1\" class=\"dataframe\">\n  <thead>\n    <tr style=\"text-align: right;\">\n      <th></th>\n      <th>Date</th>\n      <th>М1, t</th>\n      <th>М2, t</th>\n      <th>ΔМ, t</th>\n      <th>Т1, °C</th>\n      <th>Т2, °C</th>\n      <th>ΔТ, °C</th>\n      <th>Q, Gcal</th>\n      <th>USPD</th>\n      <th>YYYYMM</th>\n      <th>registrated</th>\n      <th>scheme</th>\n      <th>type</th>\n      <th>area</th>\n      <th>floors</th>\n      <th>walls material</th>\n      <th>year of construction</th>\n      <th>area of building</th>\n      <th>temp,˚C</th>\n    </tr>\n  </thead>\n  <tbody>\n    <tr>\n      <th>0</th>\n      <td>2013/12/1</td>\n      <td>93.95</td>\n      <td>84.17</td>\n      <td>9.78</td>\n      <td>65.86</td>\n      <td>43.56</td>\n      <td>22.30</td>\n      <td>2.10</td>\n      <td>1</td>\n      <td>201312</td>\n      <td>Heating + Hot water</td>\n      <td>opened</td>\n      <td>1105</td>\n      <td>2707.4</td>\n      <td>5</td>\n      <td>panel</td>\n      <td>1983</td>\n      <td>4401.0</td>\n      <td>-0.157917</td>\n    </tr>\n    <tr>\n      <th>1</th>\n      <td>2013/12/2</td>\n      <td>91.28</td>\n      <td>81.69</td>\n      <td>9.59</td>\n      <td>65.18</td>\n      <td>42.87</td>\n      <td>22.31</td>\n      <td>2.04</td>\n      <td>1</td>\n      <td>201312</td>\n      <td>Heating + Hot water</td>\n      <td>opened</td>\n      <td>1105</td>\n      <td>2707.4</td>\n      <td>5</td>\n      <td>panel</td>\n      <td>1983</td>\n      <td>4401.0</td>\n      <td>-1.259167</td>\n    </tr>\n    <tr>\n      <th>2</th>\n      <td>2013/12/3</td>\n      <td>91.76</td>\n      <td>84.87</td>\n      <td>6.90</td>\n      <td>65.70</td>\n      <td>43.17</td>\n      <td>22.53</td>\n      <td>2.07</td>\n      <td>1</td>\n      <td>201312</td>\n      <td>Heating + Hot water</td>\n      <td>opened</td>\n      <td>1105</td>\n      <td>2707.4</td>\n      <td>5</td>\n      <td>panel</td>\n      <td>1983</td>\n      <td>4401.0</td>\n      <td>-4.739167</td>\n    </tr>\n    <tr>\n      <th>3</th>\n      <td>2013/12/4</td>\n      <td>88.79</td>\n      <td>79.92</td>\n      <td>8.87</td>\n      <td>65.26</td>\n      <td>42.23</td>\n      <td>23.03</td>\n      <td>2.05</td>\n      <td>1</td>\n      <td>201312</td>\n      <td>Heating + Hot water</td>\n      <td>opened</td>\n      <td>1105</td>\n      <td>2707.4</td>\n      <td>5</td>\n      <td>panel</td>\n      <td>1983</td>\n      <td>4401.0</td>\n      <td>-1.216250</td>\n    </tr>\n    <tr>\n      <th>4</th>\n      <td>2013/12/5</td>\n      <td>89.37</td>\n      <td>81.50</td>\n      <td>7.87</td>\n      <td>65.47</td>\n      <td>42.22</td>\n      <td>23.25</td>\n      <td>2.08</td>\n      <td>1</td>\n      <td>201312</td>\n      <td>Heating + Hot water</td>\n      <td>opened</td>\n      <td>1105</td>\n      <td>2707.4</td>\n      <td>5</td>\n      <td>panel</td>\n      <td>1983</td>\n      <td>4401.0</td>\n      <td>-0.533750</td>\n    </tr>\n  </tbody>\n</table>\n</div>"
     },
     "metadata": {},
     "output_type": "execute_result",
     "execution_count": 90
    }
   ],
   "source": [
    "# 导入i3e数据\n",
    "i3e_data = pd.read_csv('/Users/han/Desktop/Dissertation/Heating-System-Analysis/i3e_data.csv')\n",
    "i3e_data.head()"
   ]
  },
  {
   "cell_type": "markdown",
   "metadata": {},
   "source": [
    "## Data Description\n",
    "|serial|name|description|type|\n",
    "|:--:|:--:|--|:--:|\n",
    "| (A)| Date |date in Windows format.|Date\n",
    "| (B)| M1, t |mass of the input water (heat carrier) per day.|Ratio\n",
    "| (C)| М2, t |mass of the output water. If the residential building has the open heating system (hot water is flowed from the heating system), (C) less than (B).|Ratio\n",
    "| (D)| ΔМ, t |difference in volumes (C)-(B). For buildings with the opened heating system this is the data for analysis. In closed system it is the technological parameter allows observation for equipment.|Ratio\n",
    "| (E)| Т1, °C |average temperature of the heating carrier in the input of the heating system. It is the independent variable from home characteristics.|Interval\n",
    "| (F)| Т2, °C |average temperature of the heating carrier in the output. It is the dependent variable both from (E) and heating consumption at building.|Interval\n",
    "| (G)| ΔТ, °C |temperature difference, (F)-(E).|Interval\n",
    "| (H)| Q, Gcal |amount of the consumed heating in Gcal. It is calculated by formula (H)=(B)*[(E)-(F)].|Ratio\n",
    "| (I)| USPD |ID of the heating meter. Some residential buildings have many heating meters.|Nominal\n",
    "| (J)| YYYYMM |date in the format year-month YYYYMM.|Date\n",
    "| (K)| registrated |what is registrated, heating or heating plus hot water.|Nominal\n",
    "| (L)| scheme |type of the heating system (opened or closed).|Nominal\n",
    "| (M)| type |code system-load (4 digits). First digit 1 is opened system, 2 is closed system. The second digit 0 is heating, 1 is heating and hot water supply. The third and fourth digits is floors amount (01, 02, 03, ..., 17).  M = L + K + O|Nominal\n",
    "| (N)| area |area of building that heating meter is served.|Ratio\n",
    "| (O)| floors |amount of building floors. 定序|Ordinal\n",
    "| (P)| walls material |walls material.|Nominal\n",
    "| (Q)| year of construction |year of building construction.|Date\n",
    "| (R)| area of building |total area of building.|Ratio\n",
    "| (S)| temp,˚C |outdoor temperature.|Interval"
   ]
  },
  {
   "cell_type": "code",
   "execution_count": 91,
   "metadata": {
    "pycharm": {
     "is_executing": false
    },
    "scrolled": false
   },
   "outputs": [
    {
     "data": {
      "text/plain": "               М1, t          М2, t          ΔМ, t         Т1, °C  \\\ncount  700036.000000  700036.000000  700036.000000  700036.000000   \nmean      140.595253     136.269521       4.325733      74.912498   \nstd       116.962725     115.807347      10.418085      10.712302   \nmin         0.260000       0.010000     -26.400000      40.010000   \n25%        74.020000      70.520000      -0.160000      66.520000   \n50%       112.550000     107.200000       2.210000      73.020000   \n75%       162.300000     157.750000       7.190000      82.070000   \nmax      5723.500000    1856.560000    5173.200000     116.990000   \n\n              Т2, °C         ΔТ, °C        Q, Gcal           USPD  \\\ncount  700036.000000  700036.000000  700036.000000  700036.000000   \nmean       50.379915      24.532585       3.280713    1117.610656   \nstd         6.081111       7.725019       2.549757     794.009423   \nmin         6.380000       2.000000       0.010000       1.000000   \n25%        46.300000      19.310000       1.750000     467.000000   \n50%        49.880000      23.920000       2.650000     987.000000   \n75%        54.120000      29.490000       3.930000    1678.000000   \nmax        90.990000      62.710000      32.980000    3162.000000   \n\n              YYYYMM           type           area         floors  \\\ncount  700036.000000  700036.000000  700036.000000  700036.000000   \nmean   201515.847402    1652.286488    3438.819815       6.517842   \nstd       114.373003     474.922161    2307.957039       2.331796   \nmin    201312.000000    1101.000000     121.800000       1.000000   \n25%    201405.000000    1105.000000    2128.800000       5.000000   \n50%    201504.000000    2005.000000    2896.920000       5.000000   \n75%    201609.000000    2105.000000    3949.900000       9.000000   \nmax    201709.000000    2117.000000   18801.100000      17.000000   \n\n       year of construction  area of building        temp,˚C  \ncount         700036.000000     700036.000000  700036.000000  \nmean            1978.607146       7116.133263      -5.944104  \nstd               12.961497       6380.413599      10.097453  \nmin             1882.000000        121.800000     -33.521342  \n25%             1970.000000       3400.000000     -12.586472  \n50%             1979.000000       4767.000000      -5.182468  \n75%             1987.000000       8307.850000       1.193997  \nmax             2015.000000      32030.920000      20.010833  ",
      "text/html": "<div>\n<style scoped>\n    .dataframe tbody tr th:only-of-type {\n        vertical-align: middle;\n    }\n\n    .dataframe tbody tr th {\n        vertical-align: top;\n    }\n\n    .dataframe thead th {\n        text-align: right;\n    }\n</style>\n<table border=\"1\" class=\"dataframe\">\n  <thead>\n    <tr style=\"text-align: right;\">\n      <th></th>\n      <th>М1, t</th>\n      <th>М2, t</th>\n      <th>ΔМ, t</th>\n      <th>Т1, °C</th>\n      <th>Т2, °C</th>\n      <th>ΔТ, °C</th>\n      <th>Q, Gcal</th>\n      <th>USPD</th>\n      <th>YYYYMM</th>\n      <th>type</th>\n      <th>area</th>\n      <th>floors</th>\n      <th>year of construction</th>\n      <th>area of building</th>\n      <th>temp,˚C</th>\n    </tr>\n  </thead>\n  <tbody>\n    <tr>\n      <th>count</th>\n      <td>700036.000000</td>\n      <td>700036.000000</td>\n      <td>700036.000000</td>\n      <td>700036.000000</td>\n      <td>700036.000000</td>\n      <td>700036.000000</td>\n      <td>700036.000000</td>\n      <td>700036.000000</td>\n      <td>700036.000000</td>\n      <td>700036.000000</td>\n      <td>700036.000000</td>\n      <td>700036.000000</td>\n      <td>700036.000000</td>\n      <td>700036.000000</td>\n      <td>700036.000000</td>\n    </tr>\n    <tr>\n      <th>mean</th>\n      <td>140.595253</td>\n      <td>136.269521</td>\n      <td>4.325733</td>\n      <td>74.912498</td>\n      <td>50.379915</td>\n      <td>24.532585</td>\n      <td>3.280713</td>\n      <td>1117.610656</td>\n      <td>201515.847402</td>\n      <td>1652.286488</td>\n      <td>3438.819815</td>\n      <td>6.517842</td>\n      <td>1978.607146</td>\n      <td>7116.133263</td>\n      <td>-5.944104</td>\n    </tr>\n    <tr>\n      <th>std</th>\n      <td>116.962725</td>\n      <td>115.807347</td>\n      <td>10.418085</td>\n      <td>10.712302</td>\n      <td>6.081111</td>\n      <td>7.725019</td>\n      <td>2.549757</td>\n      <td>794.009423</td>\n      <td>114.373003</td>\n      <td>474.922161</td>\n      <td>2307.957039</td>\n      <td>2.331796</td>\n      <td>12.961497</td>\n      <td>6380.413599</td>\n      <td>10.097453</td>\n    </tr>\n    <tr>\n      <th>min</th>\n      <td>0.260000</td>\n      <td>0.010000</td>\n      <td>-26.400000</td>\n      <td>40.010000</td>\n      <td>6.380000</td>\n      <td>2.000000</td>\n      <td>0.010000</td>\n      <td>1.000000</td>\n      <td>201312.000000</td>\n      <td>1101.000000</td>\n      <td>121.800000</td>\n      <td>1.000000</td>\n      <td>1882.000000</td>\n      <td>121.800000</td>\n      <td>-33.521342</td>\n    </tr>\n    <tr>\n      <th>25%</th>\n      <td>74.020000</td>\n      <td>70.520000</td>\n      <td>-0.160000</td>\n      <td>66.520000</td>\n      <td>46.300000</td>\n      <td>19.310000</td>\n      <td>1.750000</td>\n      <td>467.000000</td>\n      <td>201405.000000</td>\n      <td>1105.000000</td>\n      <td>2128.800000</td>\n      <td>5.000000</td>\n      <td>1970.000000</td>\n      <td>3400.000000</td>\n      <td>-12.586472</td>\n    </tr>\n    <tr>\n      <th>50%</th>\n      <td>112.550000</td>\n      <td>107.200000</td>\n      <td>2.210000</td>\n      <td>73.020000</td>\n      <td>49.880000</td>\n      <td>23.920000</td>\n      <td>2.650000</td>\n      <td>987.000000</td>\n      <td>201504.000000</td>\n      <td>2005.000000</td>\n      <td>2896.920000</td>\n      <td>5.000000</td>\n      <td>1979.000000</td>\n      <td>4767.000000</td>\n      <td>-5.182468</td>\n    </tr>\n    <tr>\n      <th>75%</th>\n      <td>162.300000</td>\n      <td>157.750000</td>\n      <td>7.190000</td>\n      <td>82.070000</td>\n      <td>54.120000</td>\n      <td>29.490000</td>\n      <td>3.930000</td>\n      <td>1678.000000</td>\n      <td>201609.000000</td>\n      <td>2105.000000</td>\n      <td>3949.900000</td>\n      <td>9.000000</td>\n      <td>1987.000000</td>\n      <td>8307.850000</td>\n      <td>1.193997</td>\n    </tr>\n    <tr>\n      <th>max</th>\n      <td>5723.500000</td>\n      <td>1856.560000</td>\n      <td>5173.200000</td>\n      <td>116.990000</td>\n      <td>90.990000</td>\n      <td>62.710000</td>\n      <td>32.980000</td>\n      <td>3162.000000</td>\n      <td>201709.000000</td>\n      <td>2117.000000</td>\n      <td>18801.100000</td>\n      <td>17.000000</td>\n      <td>2015.000000</td>\n      <td>32030.920000</td>\n      <td>20.010833</td>\n    </tr>\n  </tbody>\n</table>\n</div>"
     },
     "metadata": {},
     "output_type": "execute_result",
     "execution_count": 91
    }
   ],
   "source": [
    "i3e_data.describe()\n"
   ]
  },
  {
   "cell_type": "code",
   "execution_count": 92,
   "metadata": {
    "pycharm": {
     "is_executing": false
    }
   },
   "outputs": [],
   "source": [
    "M1 = i3e_data[\"М1, t\"]\n",
    "M2 = i3e_data[\"М2, t\"]\n",
    "delta_M = i3e_data[\"ΔМ, t\"]\n",
    "T1 = i3e_data[\"Т1, °C\"]\n",
    "T2 = i3e_data[\"Т2, °C\"]\n",
    "delta_T = i3e_data[\"ΔТ, °C\"]\n",
    "area_of_building = i3e_data[\"area of building\"]\n",
    "Gcal = i3e_data[\"Q, Gcal\"]\n",
    "\n",
    "area = i3e_data[\"area\"]\n",
    "year_of_construction = i3e_data[\"year of construction\"]\n",
    "temp = i3e_data[\"temp,˚C\"]\n",
    "type = i3e_data[\"type\"]\n",
    "\n",
    "registrated = i3e_data[\"registrated\"]\n",
    "floors = i3e_data[\"floors\"]\n",
    "walls_material = i3e_data[\"walls material\"]\n",
    "scheme = i3e_data[\"scheme\"]\n"
   ]
  },
  {
   "cell_type": "markdown",
   "metadata": {},
   "source": [
    "**没有缺失值，接下来排除异常值**\n",
    "\n",
    "##### 尝试3sigma原则发现删除的数据过多,因为大多数数据不符合正态分布"
   ]
  },
  {
   "cell_type": "markdown",
   "source": [
    "### 对数据进行KS检验"
   ],
   "metadata": {
    "collapsed": false,
    "pycharm": {
     "name": "#%% md\n"
    }
   }
  },
  {
   "cell_type": "code",
   "execution_count": 93,
   "outputs": [
    {
     "data": {
      "text/plain": "('p-value',\n [0.0, 0.0, 0.0, 0.0, 0.0, 0.0, 0.0, 0.0, 0.0],\n 'test_stat:',\n [0.9999016856349272,\n  0.9997083875134293,\n  0.49093242966453915,\n  1.0,\n  0.999999999911456,\n  0.9991656833884376,\n  1.0,\n  0.6074644246474334,\n  0.7771322256963931])"
     },
     "metadata": {},
     "output_type": "execute_result",
     "execution_count": 93
    }
   ],
   "source": [
    "KS_list=[M1, M2, delta_M, T1, T2, delta_T, area_of_building, temp, Gcal]\n",
    "def KStest(data):\n",
    "    temp_list=[]\n",
    "    test_stat_list=[]\n",
    "    for i, value in enumerate(data):\n",
    "        test_stat, pvalue= kstest(value, 'norm', args=(), alternative='two-sided', mode='approx')\n",
    "        temp_list.insert(i, pvalue)\n",
    "        test_stat_list.insert(i, test_stat)\n",
    "    return \"p-value\", temp_list, \"test_stat:\" , test_stat_list\n",
    "KStest(KS_list) "
   ],
   "metadata": {
    "collapsed": false,
    "pycharm": {
     "name": "#%%\n",
     "is_executing": false
    }
   }
  },
  {
   "cell_type": "code",
   "execution_count": 94,
   "metadata": {
    "pycharm": {
     "is_executing": false
    }
   },
   "outputs": [
    {
     "data": {
      "text/plain": "'\\ni3e_data = i3e_data.drop(data_drop_M1.index)\\ni3e_data.describe()\\n'"
     },
     "metadata": {},
     "output_type": "execute_result",
     "execution_count": 94
    }
   ],
   "source": [
    "'''\n",
    "M1.values\n",
    "mean_M1 = M1.mean()\n",
    "std_M1 = M1.std()\n",
    "error = i3e_data[np.abs(M1-mean_M1) > 3*std_M1]\n",
    "# 剔除异常值，保留正常的数据\n",
    "data_drop_M1 = i3e_data[np.abs(M1 - mean_M1) <= 3*std_M1]\n",
    "data_drop_M1.describe()\n",
    "'''\n",
    "'''\n",
    "i3e_data = i3e_data.drop(data_drop_M1.index)\n",
    "i3e_data.describe()\n",
    "'''"
   ]
  },
  {
   "cell_type": "code",
   "execution_count": 95,
   "metadata": {
    "pycharm": {
     "is_executing": false
    }
   },
   "outputs": [
    {
     "data": {
      "text/plain": "<Figure size 432x288 with 1 Axes>",
      "image/png": "[encoded data removed]"
     },
     "metadata": {
      "needs_background": "light"
     },
     "output_type": "display_data"
    },
    {
     "data": {
      "text/plain": "<Figure size 432x288 with 1 Axes>",
      "image/png": "[encoded data removed]"
     },
     "metadata": {
      "needs_background": "light"
     },
     "output_type": "display_data"
    },
    {
     "data": {
      "text/plain": "               М1, t          М2, t          ΔМ, t         Т1, °C  \\\ncount  700035.000000  700035.000000  700035.000000  700035.000000   \nmean      140.587278     136.268930       4.318350      74.912492   \nstd       116.772316     115.806372       8.388738      10.712308   \nmin         0.260000       0.010000     -26.400000      40.010000   \n25%        74.020000      70.520000      -0.160000      66.520000   \n50%       112.550000     107.200000       2.210000      73.020000   \n75%       162.300000     157.750000       7.190000      82.070000   \nmax      1875.700000    1856.560000     651.690000     116.990000   \n\n              Т2, °C         ΔТ, °C        Q, Gcal           USPD  \\\ncount  700035.000000  700035.000000  700035.000000  700035.000000   \nmean       50.379910      24.532584       3.280698    1117.609808   \nstd         6.081113       7.725025       2.549725     794.009673   \nmin         6.380000       2.000000       0.010000       1.000000   \n25%        46.300000      19.310000       1.750000     467.000000   \n50%        49.880000      23.920000       2.650000     987.000000   \n75%        54.120000      29.490000       3.930000    1678.000000   \nmax        90.990000      62.710000      32.980000    3162.000000   \n\n              YYYYMM           type           area         floors  \\\ncount  700035.000000  700035.000000  700035.000000  700035.000000   \nmean   201515.847422    1652.285836    3438.807182       6.517838   \nstd       114.373084     474.922187    2307.934484       2.331795   \nmin    201312.000000    1101.000000     121.800000       1.000000   \n25%    201405.000000    1105.000000    2128.800000       5.000000   \n50%    201504.000000    2005.000000    2896.920000       5.000000   \n75%    201609.000000    2105.000000    3949.900000       9.000000   \nmax    201709.000000    2117.000000   18801.100000      17.000000   \n\n       year of construction  area of building        temp,˚C  \ncount         700035.000000     700035.000000  700035.000000  \nmean            1978.607145       7116.121383      -5.944104  \nstd               12.961507       6380.410414      10.097461  \nmin             1882.000000        121.800000     -33.521342  \n25%             1970.000000       3400.000000     -12.586472  \n50%             1979.000000       4767.000000      -5.182468  \n75%             1987.000000       8307.850000       1.193997  \nmax             2015.000000      32030.920000      20.010833  ",
      "text/html": "<div>\n<style scoped>\n    .dataframe tbody tr th:only-of-type {\n        vertical-align: middle;\n    }\n\n    .dataframe tbody tr th {\n        vertical-align: top;\n    }\n\n    .dataframe thead th {\n        text-align: right;\n    }\n</style>\n<table border=\"1\" class=\"dataframe\">\n  <thead>\n    <tr style=\"text-align: right;\">\n      <th></th>\n      <th>М1, t</th>\n      <th>М2, t</th>\n      <th>ΔМ, t</th>\n      <th>Т1, °C</th>\n      <th>Т2, °C</th>\n      <th>ΔТ, °C</th>\n      <th>Q, Gcal</th>\n      <th>USPD</th>\n      <th>YYYYMM</th>\n      <th>type</th>\n      <th>area</th>\n      <th>floors</th>\n      <th>year of construction</th>\n      <th>area of building</th>\n      <th>temp,˚C</th>\n    </tr>\n  </thead>\n  <tbody>\n    <tr>\n      <th>count</th>\n      <td>700035.000000</td>\n      <td>700035.000000</td>\n      <td>700035.000000</td>\n      <td>700035.000000</td>\n      <td>700035.000000</td>\n      <td>700035.000000</td>\n      <td>700035.000000</td>\n      <td>700035.000000</td>\n      <td>700035.000000</td>\n      <td>700035.000000</td>\n      <td>700035.000000</td>\n      <td>700035.000000</td>\n      <td>700035.000000</td>\n      <td>700035.000000</td>\n      <td>700035.000000</td>\n    </tr>\n    <tr>\n      <th>mean</th>\n      <td>140.587278</td>\n      <td>136.268930</td>\n      <td>4.318350</td>\n      <td>74.912492</td>\n      <td>50.379910</td>\n      <td>24.532584</td>\n      <td>3.280698</td>\n      <td>1117.609808</td>\n      <td>201515.847422</td>\n      <td>1652.285836</td>\n      <td>3438.807182</td>\n      <td>6.517838</td>\n      <td>1978.607145</td>\n      <td>7116.121383</td>\n      <td>-5.944104</td>\n    </tr>\n    <tr>\n      <th>std</th>\n      <td>116.772316</td>\n      <td>115.806372</td>\n      <td>8.388738</td>\n      <td>10.712308</td>\n      <td>6.081113</td>\n      <td>7.725025</td>\n      <td>2.549725</td>\n      <td>794.009673</td>\n      <td>114.373084</td>\n      <td>474.922187</td>\n      <td>2307.934484</td>\n      <td>2.331795</td>\n      <td>12.961507</td>\n      <td>6380.410414</td>\n      <td>10.097461</td>\n    </tr>\n    <tr>\n      <th>min</th>\n      <td>0.260000</td>\n      <td>0.010000</td>\n      <td>-26.400000</td>\n      <td>40.010000</td>\n      <td>6.380000</td>\n      <td>2.000000</td>\n      <td>0.010000</td>\n      <td>1.000000</td>\n      <td>201312.000000</td>\n      <td>1101.000000</td>\n      <td>121.800000</td>\n      <td>1.000000</td>\n      <td>1882.000000</td>\n      <td>121.800000</td>\n      <td>-33.521342</td>\n    </tr>\n    <tr>\n      <th>25%</th>\n      <td>74.020000</td>\n      <td>70.520000</td>\n      <td>-0.160000</td>\n      <td>66.520000</td>\n      <td>46.300000</td>\n      <td>19.310000</td>\n      <td>1.750000</td>\n      <td>467.000000</td>\n      <td>201405.000000</td>\n      <td>1105.000000</td>\n      <td>2128.800000</td>\n      <td>5.000000</td>\n      <td>1970.000000</td>\n      <td>3400.000000</td>\n      <td>-12.586472</td>\n    </tr>\n    <tr>\n      <th>50%</th>\n      <td>112.550000</td>\n      <td>107.200000</td>\n      <td>2.210000</td>\n      <td>73.020000</td>\n      <td>49.880000</td>\n      <td>23.920000</td>\n      <td>2.650000</td>\n      <td>987.000000</td>\n      <td>201504.000000</td>\n      <td>2005.000000</td>\n      <td>2896.920000</td>\n      <td>5.000000</td>\n      <td>1979.000000</td>\n      <td>4767.000000</td>\n      <td>-5.182468</td>\n    </tr>\n    <tr>\n      <th>75%</th>\n      <td>162.300000</td>\n      <td>157.750000</td>\n      <td>7.190000</td>\n      <td>82.070000</td>\n      <td>54.120000</td>\n      <td>29.490000</td>\n      <td>3.930000</td>\n      <td>1678.000000</td>\n      <td>201609.000000</td>\n      <td>2105.000000</td>\n      <td>3949.900000</td>\n      <td>9.000000</td>\n      <td>1987.000000</td>\n      <td>8307.850000</td>\n      <td>1.193997</td>\n    </tr>\n    <tr>\n      <th>max</th>\n      <td>1875.700000</td>\n      <td>1856.560000</td>\n      <td>651.690000</td>\n      <td>116.990000</td>\n      <td>90.990000</td>\n      <td>62.710000</td>\n      <td>32.980000</td>\n      <td>3162.000000</td>\n      <td>201709.000000</td>\n      <td>2117.000000</td>\n      <td>18801.100000</td>\n      <td>17.000000</td>\n      <td>2015.000000</td>\n      <td>32030.920000</td>\n      <td>20.010833</td>\n    </tr>\n  </tbody>\n</table>\n</div>"
     },
     "metadata": {},
     "output_type": "execute_result",
     "execution_count": 95
    }
   ],
   "source": [
    "plt.scatter(M1, M2, s=5)\n",
    "plt.show()\n",
    "data_drop_M1 = i3e_data[M1 == 5723.5]\n",
    "i3e_data = i3e_data.drop(data_drop_M1.index)\n",
    "plt.scatter(i3e_data['М1, t'], i3e_data['М2, t'], s=5)\n",
    "plt.show()\n",
    "i3e_data.describe()"
   ]
  },
  {
   "cell_type": "markdown",
   "metadata": {
    "pycharm": {
     "is_executing": false,
     "name": "#%% md\n"
    }
   },
   "source": [
    "### 对类别变量进行编码 category encoders\n",
    "### 分类变量包括 K，L，O，P\n",
    "### 对分类数据进行OneHot编码"
   ]
  },
  {
   "cell_type": "code",
   "source": [
    "ecoder = OneHotEncoder()\n",
    "\n",
    "#ecoder.fit_transform(i3e_data['registrated'].values)\n",
    "print(i3e_data['registrated'])\n"
   ],
   "metadata": {
    "collapsed": false,
    "pycharm": {
     "name": "#%% \n",
     "is_executing": false
    }
   },
   "execution_count": 101,
   "outputs": [
    {
     "name": "stdout",
     "text": [
      "['Heating + Hot water' 'Heating + Hot water' 'Heating + Hot water' ...\n",
      " 'Heating' 'Heating' 'Heating']\n"
     ],
     "output_type": "stream"
    }
   ]
  }
 ],
 "metadata": {
  "kernelspec": {
   "name": "pycharm-3c84dc66",
   "language": "python",
   "display_name": "PyCharm (Heating-System-Analysis)"
  },
  "language_info": {
   "codemirror_mode": {
    "name": "ipython",
    "version": 3
   },
   "file_extension": ".py",
   "mimetype": "text/x-python",
   "name": "python",
   "nbconvert_exporter": "python",
   "pygments_lexer": "ipython3",
   "version": "3.9.1"
  },
  "pycharm": {
   "stem_cell": {
    "cell_type": "raw",
    "source": [],
    "metadata": {
     "collapsed": false
    }
   }
  }
 },
 "nbformat": 4,
 "nbformat_minor": 4
}